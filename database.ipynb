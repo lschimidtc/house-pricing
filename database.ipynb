{
 "cells": [
  {
   "cell_type": "code",
   "execution_count": null,
   "metadata": {},
   "outputs": [],
   "source": [
    "# Lib for databases\n",
    "import sqlite3"
   ]
  },
  {
   "cell_type": "code",
   "execution_count": null,
   "metadata": {},
   "outputs": [],
   "source": [
    "# Creating the database\n",
    "connection = sqlite3.connect('database_api.db')"
   ]
  },
  {
   "cell_type": "code",
   "execution_count": null,
   "metadata": {},
   "outputs": [],
   "source": [
    "# Relation\n",
    "cursor = connection.cursor()"
   ]
  },
  {
   "cell_type": "code",
   "execution_count": null,
   "metadata": {},
   "outputs": [],
   "source": [
    "# Query --> Create a table\n",
    "\n",
    "query = '''\n",
    "  CREATE TABLE Log_API (\n",
    "    id INTEGER NOT NULL PRIMARY KEY AUTOINCREMENT,\n",
    "    inputs TEXT,\n",
    "    initial TEXT,\n",
    "    end TEXT,\n",
    "    processing TEXT,\n",
    "  )\n",
    "'''\n",
    "\n",
    "cursor.execute(query)"
   ]
  },
  {
   "cell_type": "code",
   "execution_count": null,
   "metadata": {},
   "outputs": [],
   "source": [
    "# Query --> Insert\n",
    "query_insert = '''\n",
    "  INSERT INTO Log_API (\n",
    "    inputs, initial, end, processing\n",
    "  )\n",
    "  VALUES (\n",
    "    '480;4;5;3;0;1;0;0;742', '09/25/2022 11:01:12', '09/25/2022 11:01:13', '00:01'\n",
    "  )\n",
    "'''\n",
    "\n",
    "cursor.execute(query_insert)\n",
    "\n",
    "# Commit\n",
    "connection.commit()"
   ]
  },
  {
   "cell_type": "code",
   "execution_count": null,
   "metadata": {},
   "outputs": [],
   "source": [
    "# Query --> Consult\n",
    "\n",
    "query_consult = '''\n",
    "  SELECT * FROM Log_API\n",
    "'''\n",
    "\n",
    "# Executing the query\n",
    "cursor.execute(query_consult).fetchall()"
   ]
  }
 ],
 "metadata": {
  "kernelspec": {
   "display_name": "Python 3.8.10 64-bit",
   "language": "python",
   "name": "python3"
  },
  "language_info": {
   "name": "python",
   "version": "3.8.10"
  },
  "orig_nbformat": 4,
  "vscode": {
   "interpreter": {
    "hash": "31f2aee4e71d21fbe5cf8b01ff0e069b9275f58929596ceb00d14d90e3e16cd6"
   }
  }
 },
 "nbformat": 4,
 "nbformat_minor": 2
}
